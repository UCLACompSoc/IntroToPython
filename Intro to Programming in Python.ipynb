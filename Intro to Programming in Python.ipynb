{
 "cells": [
  {
   "cell_type": "markdown",
   "metadata": {
    "slideshow": {
     "slide_type": "slide"
    }
   },
   "source": [
    "<center>\n",
    "<h1>Inroduction to Programming in Python</h1>\n",
    "<h2>Computational Sociology Boot Camp 2018</h2>\n",
    "<h3> Sep 17, 2018<h3>\n",
    "</center>"
   ]
  },
  {
   "cell_type": "markdown",
   "metadata": {
    "slideshow": {
     "slide_type": "slide"
    }
   },
   "source": [
    "<center><h1>Overview</h1></center>\n",
    "\n",
    "* ### Basic Programming Concepts:\n",
    "    * ###  Objects, Variables, and Functions\n",
    "    \n",
    "    * ### Objects for Holding other Objects\n",
    "        * ### List, Tuple, Dictionary, Dataframe\n",
    "    * ### Calling Stuff Stored in Objects and Variables\n",
    "        * ### Indexing and Slicing\n",
    "        * ### Methods\n",
    "    * ### Loops and Conditional Statements\n",
    "        * ### For Loops\n",
    "        * ### If, Else Statements\n",
    "        \n",
    "    * ### Importing Modules and Libraries and Writing and Opening Files\n",
    "        * ### Modules vs. Libraries\n",
    "        * ### Working Directory\n",
    "        * ### Pandas and Dataframes\n",
    "        * ### Manipulating Dataframes and Reading/Writing Files in the Working Directory\n"
   ]
  },
  {
   "cell_type": "markdown",
   "metadata": {
    "slideshow": {
     "slide_type": "slide"
    }
   },
   "source": [
    "<center><h1>Programming Concepts</h1></center>\n",
    "* ### <span style=\"color:blue\"> **Objects**</span> (basic building blocks)\n",
    "* ### <span style=\"color:blue\"> **Variables**</span> (named specific objects)\n",
    "* ### <span style=\"color:blue\"> **Functions**</span> (code for manipulating objects)"
   ]
  },
  {
   "cell_type": "markdown",
   "metadata": {
    "slideshow": {
     "slide_type": "slide"
    }
   },
   "source": [
    "## Basic <span style=\"color:blue\"> **Object**</span> Types:\n",
    "#### String, Int, Float, and Bool"
   ]
  },
  {
   "cell_type": "code",
   "execution_count": 1,
   "metadata": {
    "slideshow": {
     "slide_type": "subslide"
    }
   },
   "outputs": [
    {
     "data": {
      "text/plain": [
       "'sociology'"
      ]
     },
     "execution_count": 1,
     "metadata": {},
     "output_type": "execute_result"
    }
   ],
   "source": [
    "\"sociology\" #strings are demarcated with single or double quotes"
   ]
  },
  {
   "cell_type": "markdown",
   "metadata": {},
   "source": [
    "#### Quick Detour: We can store objects in memory by assigning them to <span style=\"color:blue\"> **variables**</span>\n",
    "* #### It's considered good style to name variables with either \"my_string\" or \"myString\" convention"
   ]
  },
  {
   "cell_type": "code",
   "execution_count": 2,
   "metadata": {},
   "outputs": [
    {
     "data": {
      "text/plain": [
       "'sociology is cool'"
      ]
     },
     "execution_count": 2,
     "metadata": {},
     "output_type": "execute_result"
    }
   ],
   "source": [
    "string_ex = \"sociology\"\n",
    "string_ex + \" \" + \"is cool\" #Python allows us to concatenate string ojbects and variables by just using a plus sign"
   ]
  },
  {
   "cell_type": "code",
   "execution_count": 3,
   "metadata": {
    "slideshow": {
     "slide_type": "subslide"
    }
   },
   "outputs": [
    {
     "data": {
      "text/plain": [
       "123"
      ]
     },
     "execution_count": 3,
     "metadata": {},
     "output_type": "execute_result"
    }
   ],
   "source": [
    "123 #integer"
   ]
  },
  {
   "cell_type": "code",
   "execution_count": 4,
   "metadata": {},
   "outputs": [
    {
     "data": {
      "text/plain": [
       "246"
      ]
     },
     "execution_count": 4,
     "metadata": {},
     "output_type": "execute_result"
    }
   ],
   "source": [
    "integer_ex = 123\n",
    "integer_ex + integer_ex"
   ]
  },
  {
   "cell_type": "code",
   "execution_count": 5,
   "metadata": {
    "slideshow": {
     "slide_type": "subslide"
    }
   },
   "outputs": [
    {
     "data": {
      "text/plain": [
       "0.123"
      ]
     },
     "execution_count": 5,
     "metadata": {},
     "output_type": "execute_result"
    }
   ],
   "source": [
    ".123 #float"
   ]
  },
  {
   "cell_type": "markdown",
   "metadata": {},
   "source": [
    "#### Quick Detour: We can manipulate objects and variables in Python by using <span style=\"color:blue\"> **functions** </span> which require that we provide some input or arguments. \n",
    "\n",
    "* #### The  <span style=\"color:green\"> **round** </span> function, for example, takes any one object or variables of type float as *arguments* and then allows us to specify number of places to which we'd like to round \n"
   ]
  },
  {
   "cell_type": "code",
   "execution_count": 6,
   "metadata": {},
   "outputs": [
    {
     "data": {
      "text/plain": [
       "0.12"
      ]
     },
     "execution_count": 6,
     "metadata": {},
     "output_type": "execute_result"
    }
   ],
   "source": [
    "float_ex = .123\n",
    "round(float_ex,2)"
   ]
  },
  {
   "cell_type": "code",
   "execution_count": 7,
   "metadata": {
    "slideshow": {
     "slide_type": "subslide"
    }
   },
   "outputs": [
    {
     "data": {
      "text/plain": [
       "True"
      ]
     },
     "execution_count": 7,
     "metadata": {},
     "output_type": "execute_result"
    }
   ],
   "source": [
    "True #Boolean (sometimes also represented as 1)"
   ]
  },
  {
   "cell_type": "code",
   "execution_count": 8,
   "metadata": {
    "slideshow": {
     "slide_type": "subslide"
    }
   },
   "outputs": [],
   "source": [
    "true_ex = True"
   ]
  },
  {
   "cell_type": "code",
   "execution_count": 9,
   "metadata": {
    "slideshow": {
     "slide_type": "subslide"
    }
   },
   "outputs": [
    {
     "data": {
      "text/plain": [
       "False"
      ]
     },
     "execution_count": 9,
     "metadata": {},
     "output_type": "execute_result"
    }
   ],
   "source": [
    "False #Boolean (sometimes also represented as 0)"
   ]
  },
  {
   "cell_type": "code",
   "execution_count": 10,
   "metadata": {},
   "outputs": [],
   "source": [
    "false_ex = False"
   ]
  },
  {
   "cell_type": "markdown",
   "metadata": {
    "slideshow": {
     "slide_type": "subslide"
    }
   },
   "source": [
    "## Objects for Holding other Objects\n",
    "\n",
    "#### List, Tuple, Dictionary, Dataframe"
   ]
  },
  {
   "cell_type": "code",
   "execution_count": 11,
   "metadata": {
    "slideshow": {
     "slide_type": "subslide"
    }
   },
   "outputs": [
    {
     "data": {
      "text/plain": [
       "('sociology', 123, 0.123, True, False)"
      ]
     },
     "execution_count": 11,
     "metadata": {},
     "output_type": "execute_result"
    }
   ],
   "source": [
    "[\"sociology\",123,.123,True,False] #lists (ordered collection of objects)\n",
    "\n",
    "my_list = [\"sociology\",123,.123,True,False] #lists (ordered collection of objects)\n",
    "\n",
    "(\"sociology\",123,.123,True,False) #tuple (ordered collection that can't be edited [\"immutable\"])\n"
   ]
  },
  {
   "cell_type": "code",
   "execution_count": 12,
   "metadata": {},
   "outputs": [
    {
     "data": {
      "text/plain": [
       "{'MyDogs': 'Kai',\n",
       " 'MyCats': ['Nanook', 'Milo'],\n",
       " 'MyFrogs': 'Kermit',\n",
       " 'my_new_type_of_pet': 'Pickles'}"
      ]
     },
     "execution_count": 12,
     "metadata": {},
     "output_type": "execute_result"
    }
   ],
   "source": [
    "{\"key1\":\"value1\",\"key2\":\"value2a\",\"key3\":\"value3\"} #dictionary (indexed collection)\n",
    "\n",
    "#Dictionaries can be very useful to keep track of hierarchical data, such as the names and types of your family pets:\n",
    "AllMyPets= {\"MyDogs\":\"Kai\",\"MyCats\": [\"Nanook\", \"Milo\"],\"MyFrogs\":\"Kermit\"} \n",
    "\n",
    "AllMyPets.keys() #what are the all the keys (i.e., what are the types of pets?)\n",
    "\n",
    "AllMyPets['my_new_type_of_pet']= 'Pickles'\n",
    "\n",
    "AllMyPets"
   ]
  },
  {
   "cell_type": "code",
   "execution_count": 13,
   "metadata": {},
   "outputs": [
    {
     "data": {
      "text/plain": [
       "dict"
      ]
     },
     "execution_count": 13,
     "metadata": {},
     "output_type": "execute_result"
    }
   ],
   "source": [
    "type(AllMyPets) #If you're ever unsure of what a certain ojbect is try the type function which will take ojbects as an argument"
   ]
  },
  {
   "cell_type": "markdown",
   "metadata": {},
   "source": [
    "## Activitiy 1: \n",
    "* ### List the values (i.e., names of all pets) in the dictionary \"AllMyPets\""
   ]
  },
  {
   "cell_type": "code",
   "execution_count": null,
   "metadata": {},
   "outputs": [],
   "source": []
  },
  {
   "cell_type": "markdown",
   "metadata": {
    "collapsed": true,
    "slideshow": {
     "slide_type": "slide"
    }
   },
   "source": [
    "## Activity 2:\n",
    "* ### In the cell below, create a dictionary with the keys \"Agatha\",\"Boban\", and \"Cora\" and values are their ages (13, 12, 9). Are ages a boolean, integer, or float?\n"
   ]
  },
  {
   "cell_type": "code",
   "execution_count": null,
   "metadata": {},
   "outputs": [],
   "source": []
  },
  {
   "cell_type": "markdown",
   "metadata": {
    "slideshow": {
     "slide_type": "slide"
    }
   },
   "source": [
    "## Activity 3:\n",
    "* ###   The  <span style=\"color:green\"> **print** </span> function takes any number of objects as arguments and prints them to the screen"
   ]
  },
  {
   "cell_type": "code",
   "execution_count": 14,
   "metadata": {
    "slideshow": {
     "slide_type": "subslide"
    }
   },
   "outputs": [
    {
     "name": "stdout",
     "output_type": "stream",
     "text": [
      "History repeats itself, first as tragedy, second as farce\n",
      "History repeats itself, first as tragedy, second as farce - Karl Marx\n"
     ]
    }
   ],
   "source": [
    "ex_print = \"History repeats itself, first as tragedy, second as farce\"\n",
    "author_print = \"Karl Marx\"\n",
    "print(ex_print)\n",
    "print(ex_print + \" - \"+ author_print)"
   ]
  },
  {
   "cell_type": "markdown",
   "metadata": {},
   "source": [
    "* ###   Using the  <span style=\"color:green\"> **print** </span> function,  display these different variables together to make a coherent story"
   ]
  },
  {
   "cell_type": "code",
   "execution_count": 15,
   "metadata": {},
   "outputs": [],
   "source": [
    "b1 = \"Paul\"\n",
    "b2 = \"John\"\n",
    "b3 = \"Ringo\"\n",
    "b4 = \"George\"\n",
    "\n",
    "conjunction1 = \"and\"\n",
    "conjunction2 = \"because\"\n",
    "\n",
    "noun=\"pizzazz\"\n",
    "pizza=\"a slice of 'za'\"\n",
    "\n",
    "preposition1 =\"with\"\n",
    "preposition2 =\"on\"\n",
    "preposition3 =\"beside\"\n",
    "\n",
    "verb1=\"slapped\"\n",
    "verb2=\"kissed\"\n",
    "verb3 = \"made\"\n",
    "verb4 = \"smelled\"\n",
    "verb5 = \"slam-dunked\"\n",
    "verb5 = \"was\"\n",
    "\n",
    "which =\"which\"\n",
    "adverb = \"therefore\"\n",
    "\n",
    "adjective1=\"happy\"\n",
    "adjective2=\"angry\"\n",
    "adjective3=\"hungry\"\n",
    "adjective4=\"confused\"\n",
    "adjective5=\"low-key\"\n",
    "\n",
    "sp=\" \" #this is just a space mark if you are like me and too lazy to use the shift key\n"
   ]
  },
  {
   "cell_type": "code",
   "execution_count": null,
   "metadata": {},
   "outputs": [],
   "source": []
  },
  {
   "cell_type": "markdown",
   "metadata": {
    "slideshow": {
     "slide_type": "slide"
    }
   },
   "source": [
    "## Calling Stuff Stored in Objects and Variables "
   ]
  },
  {
   "cell_type": "markdown",
   "metadata": {},
   "source": [
    "\n",
    "* ### List/Tuple/String Indexing"
   ]
  },
  {
   "cell_type": "code",
   "execution_count": 16,
   "metadata": {
    "slideshow": {
     "slide_type": "subslide"
    }
   },
   "outputs": [
    {
     "name": "stdout",
     "output_type": "stream",
     "text": [
      "a s\n",
      "0.123\n",
      "False\n"
     ]
    }
   ],
   "source": [
    "\n",
    "\n",
    "print(pizza[0:3]) #python is \"0-indexed\" so first object is index 0\n",
    "\n",
    "print(my_list[2]) #third element of my_list\n",
    "\n",
    "print(my_list[-1]) # negative indexing begins with -1 \n",
    "                   #-1 gives you the last element of my_list  and -4 would give you the 4th to last elementof my_list"
   ]
  },
  {
   "cell_type": "code",
   "execution_count": 17,
   "metadata": {},
   "outputs": [
    {
     "data": {
      "text/plain": [
       "['Nanook', 'Milo']"
      ]
     },
     "execution_count": 17,
     "metadata": {},
     "output_type": "execute_result"
    }
   ],
   "source": [
    "AllMyPets['MyCats'] #to display only part of a dictionary"
   ]
  },
  {
   "cell_type": "markdown",
   "metadata": {
    "slideshow": {
     "slide_type": "slide"
    }
   },
   "source": [
    "* ### Slicing"
   ]
  },
  {
   "cell_type": "code",
   "execution_count": 18,
   "metadata": {
    "slideshow": {
     "slide_type": "subslide"
    }
   },
   "outputs": [
    {
     "data": {
      "text/plain": [
       "['sociology', 123, 0.123]"
      ]
     },
     "execution_count": 18,
     "metadata": {},
     "output_type": "execute_result"
    }
   ],
   "source": [
    "pizza[0:4] #when slicing, last element isn't included (returns my_string characters 1,2,3,4)\n",
    "\n",
    "my_list[2:] # third element to end\n",
    "\n",
    "my_list[:-2] # beginning to second to last element"
   ]
  },
  {
   "cell_type": "code",
   "execution_count": 19,
   "metadata": {},
   "outputs": [
    {
     "data": {
      "text/plain": [
       "'a s'"
      ]
     },
     "execution_count": 19,
     "metadata": {},
     "output_type": "execute_result"
    }
   ],
   "source": [
    "pizza[0:3] #when slicing, last element isn't included (returns my_string characters 1,2,3)"
   ]
  },
  {
   "cell_type": "code",
   "execution_count": 20,
   "metadata": {
    "slideshow": {
     "slide_type": "subslide"
    }
   },
   "outputs": [
    {
     "name": "stdout",
     "output_type": "stream",
     "text": [
      "a slice of 'za' is the best\n",
      "['sociology', 123, 0.123, True, False, 'is', 'the', 'best', '.', 'I', 'love', 'it']\n"
     ]
    }
   ],
   "source": [
    "pizza = pizza + \" is the best\" #fills me with joy!\n",
    "\n",
    "print(pizza)\n",
    "\n",
    "my_list = my_list + [\"is\", \"the\", \"best\"] #it looks sad this way...\n",
    "\n",
    "my_list += [\".\",\"I\", \"love\", \"it\"] #same as above (this has gotten kinda creepy)\n",
    "\n",
    "print(my_list)"
   ]
  },
  {
   "cell_type": "markdown",
   "metadata": {
    "slideshow": {
     "slide_type": "slide"
    }
   },
   "source": [
    "## Activity 4:\n",
    "### In the box below, create a new list containing: the first character of <span style=\"color:gray\"> **my_string** </span>, the second element of <span style=\"color:gray\"> **my_list** </span>, and the value of my_int <span style=\"color:gray\"> **my_int** </span>. Assign it to a variable name of your choice."
   ]
  },
  {
   "cell_type": "code",
   "execution_count": 21,
   "metadata": {},
   "outputs": [],
   "source": [
    "my_string = \"sociology\" "
   ]
  },
  {
   "cell_type": "markdown",
   "metadata": {
    "slideshow": {
     "slide_type": "slide"
    }
   },
   "source": [
    "## Activity 5:\n",
    "### In the box below, how do you get the last character of <span style=\"color:gray\"> **my_string** </span>? What about the second-to-last character?"
   ]
  },
  {
   "cell_type": "code",
   "execution_count": 22,
   "metadata": {
    "slideshow": {
     "slide_type": "notes"
    }
   },
   "outputs": [],
   "source": [
    "my_string = \"sociology is the best\" "
   ]
  },
  {
   "cell_type": "markdown",
   "metadata": {
    "slideshow": {
     "slide_type": "slide"
    }
   },
   "source": [
    "## Objects have built in functions called *methods*"
   ]
  },
  {
   "cell_type": "code",
   "execution_count": 23,
   "metadata": {
    "slideshow": {
     "slide_type": "subslide"
    }
   },
   "outputs": [
    {
     "name": "stdout",
     "output_type": "stream",
     "text": [
      "['this', 'is', 'my', 'first', 'list']\n",
      "['this', 'is', 'my', 'first', 'list', 'ever']\n"
     ]
    }
   ],
   "source": [
    "list1= [\"this\", \"is\" , \"my\", \"first\", \"list\"]\n",
    "print(list1)\n",
    "list1.append(\"ever\") #note that .append is a method which modifies its object (list1) rather than returning a new object that is modified. In other words, you don't assign it a name.\n",
    "print(list1)"
   ]
  },
  {
   "cell_type": "code",
   "execution_count": null,
   "metadata": {
    "slideshow": {
     "slide_type": "notes"
    }
   },
   "outputs": [],
   "source": []
  },
  {
   "cell_type": "markdown",
   "metadata": {
    "slideshow": {
     "slide_type": "subslide"
    }
   },
   "source": [
    "## String objects have lots of methods you may find useful!\n",
    "\n",
    "* ### [see documentation (https://docs.python.org/2/library/string.html) ]"
   ]
  },
  {
   "cell_type": "code",
   "execution_count": 24,
   "metadata": {
    "slideshow": {
     "slide_type": "slide"
    }
   },
   "outputs": [
    {
     "name": "stdout",
     "output_type": "stream",
     "text": [
      "Sociology is the best\n",
      "sociology is the \n",
      "17\n",
      "sociology is the best\n",
      "sociology is the worst\n",
      "1\n",
      "True\n"
     ]
    }
   ],
   "source": [
    "print(my_string.capitalize()) \n",
    "\n",
    "li= my_string.find(\"best\") #get index where best starts\n",
    "\n",
    "print(my_string[:li])\n",
    "\n",
    "print(my_string.rfind(\"best\")) #start from end\n",
    "\n",
    "my_string += '  \\n\\t\\r' #add whitespace characters to end of string. (\\t=tab, \\n=linux/mac newline,\\r=windows newline)\n",
    "\n",
    "print(my_string.strip()) #strip whitespace from both ends\n",
    "\n",
    "my_string= my_string.strip()\n",
    "\n",
    "print(my_string.replace(\"best\",\"worst\")) #replace all instances of \"best\" with \"worst\"\n",
    "\n",
    "print(my_string.count(\"best\")) #counts non-overlapping occurences\n",
    "\n",
    "my_text_list= my_string.split(' ') #split string into list of words\n",
    "\n",
    "my_string2 = ' '.join(my_text_list) #join list on character\n",
    "\n",
    "print(my_string==my_string2) #== tests for equivalence\n",
    "\n",
    "#note that because methods are actually functions with itself as input, you always need () [& possibly other arguments]\n",
    "#what's actually going on here is the object is providing an argument to the function you can't see called 'self'\n",
    "\n"
   ]
  },
  {
   "cell_type": "markdown",
   "metadata": {
    "slideshow": {
     "slide_type": "slide"
    }
   },
   "source": [
    "## Activity 6:\n",
    "### This one is a bit more involved.\n",
    "#### 1. Create **list** containing the words \"UCLA Sociology Department\" with variable name of your choice\n",
    "#### 2. Replace the middle word with \"Anthropology\"\n",
    "#### 3. Create a string and join the result of the last step to the string\n",
    "#### 4. Find the first occurence of the letter r from the end of the string. Store it to a variable\n",
    "#### 5. Create a new string from the index you just stored to the end of your string."
   ]
  },
  {
   "cell_type": "code",
   "execution_count": null,
   "metadata": {},
   "outputs": [],
   "source": []
  },
  {
   "cell_type": "markdown",
   "metadata": {
    "collapsed": true,
    "slideshow": {
     "slide_type": "notes"
    }
   },
   "source": [
    "## Loops\n",
    "The construction\n",
    "```python\n",
    "for n in number_list:\n",
    "```\n",
    "is called a ***loop***. More specifically it is a ```for``` loop. Note that the loop contains an \"iterator\" ```n``` and an \"iterable\" ```number_list```. We are iterating through ```number_list``` and returning each **value** sequentially and then adding it to the string before printing it.\n",
    "\n",
    "In python, we use tabs to indicate when we are inside a loop or condition block. Other languages (like R) use the C-style syntax {}. "
   ]
  },
  {
   "cell_type": "code",
   "execution_count": 25,
   "metadata": {},
   "outputs": [
    {
     "name": "stdout",
     "output_type": "stream",
     "text": [
      "[1, 2, 3, 4, 5, 6, 7]\n",
      "1\n",
      "This is the 1th item of this list\n",
      "2\n",
      "This is the 2th item of this list\n",
      "3\n",
      "This is the 3th item of this list\n",
      "4\n",
      "This is the 4th item of this list\n",
      "5\n",
      "This is the 5th item of this list\n",
      "6\n",
      "This is the 6th item of this list\n",
      "7\n",
      "This is the 7th item of this list\n"
     ]
    }
   ],
   "source": [
    "number_list = [1,2,3,4,5,6,7]\n",
    "print(number_list)\n",
    "\n",
    "for n in number_list: \n",
    "    print(n)   \n",
    "    a=\"This is the\" + \" \"+ str(n) +\"th\" \" item of this list\"\n",
    "    print(a)"
   ]
  },
  {
   "cell_type": "markdown",
   "metadata": {},
   "source": [
    "## Conditions\n",
    "\n",
    "Let's make this above loop a bit more complicated. We'll loop through the items in ```number_list```  and use a **condition** to make sure that the that ordinal indicators for the values are correct in the output \n",
    "\n",
    "This is also an introduction to an if else statement. ```If``` statements test some equivalence and do something if that test returns ```True```. \n",
    "We saw the equivalence test ```==``` (equals) before, but here we see its counterpart ```!=```. There are four more equivalence tests:\n",
    "'>',\n",
    "'>=',\n",
    "'<',\n",
    "'<=',\n",
    "\n"
   ]
  },
  {
   "cell_type": "code",
   "execution_count": 26,
   "metadata": {},
   "outputs": [
    {
     "name": "stdout",
     "output_type": "stream",
     "text": [
      "[1, 2, 3, 4, 5, 6, 7]\n",
      "1\n",
      "This is the 1st item of this list\n",
      "2\n",
      "This is the 2nd item of this list\n",
      "3\n",
      "This is the 3rd item of this list\n",
      "4\n",
      "This is the 4th item of this list\n",
      "5\n",
      "This is the 5th item of this list\n",
      "6\n",
      "This is the 6th item of this list\n",
      "7\n",
      "This is the 7th item of this list\n"
     ]
    }
   ],
   "source": [
    "print(number_list)\n",
    "\n",
    "for n in number_list: \n",
    "    print(n)   \n",
    "    #going to add in an ordinal indicator variable here\n",
    "    if n >3:\n",
    "        ordinal_indicator = \"th\"\n",
    "    elif n==1:\n",
    "        ordinal_indicator = \"st\"\n",
    "    elif n==2:\n",
    "        ordinal_indicator = \"nd\"\n",
    "    elif n==3:\n",
    "        ordinal_indicator = \"rd\"   \n",
    "    a=\"This is the\" + \" \"+ str(n) + ordinal_indicator + \" item of this list\"\n",
    "    print(a)"
   ]
  },
  {
   "cell_type": "markdown",
   "metadata": {
    "collapsed": true,
    "slideshow": {
     "slide_type": "slide"
    }
   },
   "source": [
    "### Here are some uses of other conditions:"
   ]
  },
  {
   "cell_type": "code",
   "execution_count": 27,
   "metadata": {},
   "outputs": [
    {
     "name": "stdout",
     "output_type": "stream",
     "text": [
      "1 is less than 4, which is the arithmetic mean of number_list\n",
      "2 is less than 4, which is the arithmetic mean of number_list\n",
      "3 is less than 4, which is the arithmetic mean of number_list\n",
      "4 is greater than or equal to 4, which is the arithmetic mean of number_list\n",
      "5 is greater than or equal to 4, which is the arithmetic mean of number_list\n",
      "6 is greater than or equal to 4, which is the arithmetic mean of number_list\n",
      "7 is greater than or equal to 4, which is the arithmetic mean of number_list\n",
      "1 is NOT w/in one standard deviation of 4\n",
      "2 is NOT w/in one standard deviation of 4\n",
      "3 is w/in one standard deviation of 4\n",
      "4 is w/in one standard deviation of 4\n",
      "5 is w/in one standard deviation of 4\n",
      "6 is NOT w/in one standard deviation of 4\n",
      "7 is NOT w/in one standard deviation of 4\n"
     ]
    }
   ],
   "source": [
    "mu=int(sum(number_list)/len(number_list)) #calculating the arithmetic mean of number_list\n",
    "#sum adds up the numbers in number_list\n",
    "#len = tells us the length of any given object\n",
    "    #if the ojbect is a list it will give us the total number of ojbects contain therein\n",
    "    #if the ojbect is a string it will give us the total number of characters in the string\n",
    "for n in number_list :\n",
    "    if n >= mu:\n",
    "        print(str(n)+ \" is greater than or equal to \" + str(mu) + \", which is the arithmetic mean of number_list\")\n",
    "    else:\n",
    "        print(str(n) + \" is less than \" + str(mu) + \", which is the arithmetic mean of number_list\" )\n",
    "\n",
    "total_running_value=0 \n",
    "\n",
    "for n in number_list:\n",
    "    dif_sq = ((n - mu)**2) \n",
    "    total_running_value =  + dif_sq\n",
    "    \n",
    "sd=(total_running_value/len(number_list))**(1/2) #calculating standard deviation of number_list\n",
    "upper_lim = mu + sd \n",
    "lower_lim = mu - sd\n",
    "\n",
    "for n in number_list:\n",
    "    if n > lower_lim and n < upper_lim:\n",
    "        print(str(n) + \" is w/in one standard deviation of \" + str(mu))\n",
    "    else :\n",
    "        print(str(n) + \" is NOT w/in one standard deviation of \" + str(mu))"
   ]
  },
  {
   "cell_type": "markdown",
   "metadata": {},
   "source": [
    "### Here are some other uses of conditions outside of loops and and if else statements:"
   ]
  },
  {
   "cell_type": "code",
   "execution_count": 28,
   "metadata": {},
   "outputs": [
    {
     "name": "stdout",
     "output_type": "stream",
     "text": [
      "False\n",
      "False\n",
      "True\n",
      "True\n"
     ]
    }
   ],
   "source": [
    "#if we leave an open ended equivalence python will return a boolean object\n",
    "print(\"water\"==\"oil\")\n",
    "# We can also try it out this way\n",
    "print(\"water\"is \"oil\")\n",
    "# We can try \"doesn't equal\"\n",
    "print(\"water\"!=\"oil\")\n",
    "# We can also write it out this way\n",
    "print(\"water\"is not \"oil\")"
   ]
  },
  {
   "cell_type": "markdown",
   "metadata": {},
   "source": [
    "## Activity 7:\n",
    "For each name in the name list below write a loop that compares it with your name and prints out something along the lines of :\n",
    "    \"Person 1's name is longer (or shorter) than my name\" depending on the number of characters in the person's name\n",
    "\n",
    "\n"
   ]
  },
  {
   "cell_type": "code",
   "execution_count": 29,
   "metadata": {},
   "outputs": [],
   "source": [
    "name_list = [\"Alina\", \"Bernie\",\"Jacob\", \"Pablo\", \"Tala\", \"Isaac\",\"Ian\", \"Angela\", \"Kevin\",\"Tianjian\"]"
   ]
  },
  {
   "cell_type": "markdown",
   "metadata": {},
   "source": [
    "## Importing Modules and Libraries and Writing and Opening Files\n",
    "### Importing Modules and Libraries\n",
    "\n",
    "To begin, a **module** in Python is simply a set of statements written in Python. The file containing this set of statements has a .py extension. On the other hand, a **library** or **package** is a set of modules combined under a common name.\n",
    "\n",
    "To make use of the functions in a module, you'll need to import the module with an import statement. An import statement is made up of the import keyword along with the name of the module. ```import os``` below, for example, allows us to use operating system dependent functionality. The functions that the OS module provides allows you to interface with the underlying operating system where python is running whether that is  Windows, Mac or Linux.\n",
    "\n",
    "```os.getcwd()``` tells us where our current working directory is. When you are reading in and saving files this is path where python will save stuff by default.\n",
    "\n"
   ]
  },
  {
   "cell_type": "code",
   "execution_count": 30,
   "metadata": {},
   "outputs": [
    {
     "name": "stdout",
     "output_type": "stream",
     "text": [
      "C:\\Users\\Ianpe\\Downloads\\Computational Sociology Bootcamp 2018\n"
     ]
    }
   ],
   "source": [
    "import os\n",
    "print(os.getcwd())"
   ]
  },
  {
   "cell_type": "markdown",
   "metadata": {},
   "source": [
    "### If we want to change the directory we can do the following"
   ]
  },
  {
   "cell_type": "code",
   "execution_count": 31,
   "metadata": {},
   "outputs": [
    {
     "name": "stdout",
     "output_type": "stream",
     "text": [
      "C:\\Users\\Ianpe\\Downloads\n",
      "C:\\Users\\Ianpe\\Downloads\\Computational Sociology Bootcamp 2018\n"
     ]
    }
   ],
   "source": [
    "new_path = 'C:/Users/Ianpe/Downloads/' #notice the direction of my slashes.\n",
    "                                       #This will vary depending on whether you're on a Mac or PC\n",
    "os.chdir(new_path)\n",
    "print(os.getcwd()) #checking to make sure it switched\n",
    "\n",
    "new_path2 = 'C:/Users/Ianpe/Downloads/Computational Sociology Bootcamp 2018' #switching back to where I began\n",
    "os.chdir(new_path2)\n",
    "print(os.getcwd()) #checking again to make sure it switched"
   ]
  },
  {
   "cell_type": "markdown",
   "metadata": {},
   "source": [
    "Now let's import the Pandas **library**. Pandas is a real game changer for data analysis with python and is probably the most widely used tool in data management/wrangling.\n",
    "\n",
    "One neat thing about Pandas is that it can take data (like a CSV or TSV file, or a SQL database) and creates a Python object with rows and columns called a data frame that looks very similar to an Excel spreadsheet or some type of table in a statistical software like R or Stata. This is a lot easier to work with in comparison to working with lists and/or dictionaries through for loops or list comprehension.\n",
    "\n",
    "Usually we you want to add the second part for the import (\"as pd\") so you can access Pandas with a \"pd.command\" instead of needing to write \"pandas.command\" every time you need to use it.\n",
    "\n",
    "Let's try taking the ```name_list``` variable we used above and combining it with another list using Pandas after we import it "
   ]
  },
  {
   "cell_type": "code",
   "execution_count": 32,
   "metadata": {},
   "outputs": [
    {
     "data": {
      "text/html": [
       "<div>\n",
       "<style scoped>\n",
       "    .dataframe tbody tr th:only-of-type {\n",
       "        vertical-align: middle;\n",
       "    }\n",
       "\n",
       "    .dataframe tbody tr th {\n",
       "        vertical-align: top;\n",
       "    }\n",
       "\n",
       "    .dataframe thead th {\n",
       "        text-align: right;\n",
       "    }\n",
       "</style>\n",
       "<table border=\"1\" class=\"dataframe\">\n",
       "  <thead>\n",
       "    <tr style=\"text-align: right;\">\n",
       "      <th></th>\n",
       "      <th>name_list</th>\n",
       "      <th>length_names</th>\n",
       "    </tr>\n",
       "  </thead>\n",
       "  <tbody>\n",
       "    <tr>\n",
       "      <th>0</th>\n",
       "      <td>Alina</td>\n",
       "      <td>5</td>\n",
       "    </tr>\n",
       "    <tr>\n",
       "      <th>1</th>\n",
       "      <td>Bernie</td>\n",
       "      <td>6</td>\n",
       "    </tr>\n",
       "    <tr>\n",
       "      <th>2</th>\n",
       "      <td>Jacob</td>\n",
       "      <td>5</td>\n",
       "    </tr>\n",
       "    <tr>\n",
       "      <th>3</th>\n",
       "      <td>Pablo</td>\n",
       "      <td>5</td>\n",
       "    </tr>\n",
       "    <tr>\n",
       "      <th>4</th>\n",
       "      <td>Tala</td>\n",
       "      <td>4</td>\n",
       "    </tr>\n",
       "    <tr>\n",
       "      <th>5</th>\n",
       "      <td>Isaac</td>\n",
       "      <td>5</td>\n",
       "    </tr>\n",
       "    <tr>\n",
       "      <th>6</th>\n",
       "      <td>Ian</td>\n",
       "      <td>3</td>\n",
       "    </tr>\n",
       "    <tr>\n",
       "      <th>7</th>\n",
       "      <td>Angela</td>\n",
       "      <td>6</td>\n",
       "    </tr>\n",
       "    <tr>\n",
       "      <th>8</th>\n",
       "      <td>Kevin</td>\n",
       "      <td>5</td>\n",
       "    </tr>\n",
       "  </tbody>\n",
       "</table>\n",
       "</div>"
      ],
      "text/plain": [
       "  name_list  length_names\n",
       "0     Alina             5\n",
       "1    Bernie             6\n",
       "2     Jacob             5\n",
       "3     Pablo             5\n",
       "4      Tala             4\n",
       "5     Isaac             5\n",
       "6       Ian             3\n",
       "7    Angela             6\n",
       "8     Kevin             5"
      ]
     },
     "execution_count": 32,
     "metadata": {},
     "output_type": "execute_result"
    }
   ],
   "source": [
    "import pandas as pd\n",
    "\n",
    "length_names=[] #making an empty list for name lengths\n",
    "for n in name_list: \n",
    "    length_names.append(len(n)) #just getting length of all names in list and writing them to this new list\n",
    "\n",
    "name_tuple = list(zip(name_list,length_names))  #making a tuple from these two lists \n",
    "new_df=pd.DataFrame(name_tuple, columns=['name_list','length_names'])\n",
    "\n",
    "new_df"
   ]
  },
  {
   "cell_type": "markdown",
   "metadata": {},
   "source": [
    "We can index and use conditional manipulations on dataframes just like we would a dictionary. For example, let's look at all the rows where people have five or more characters in their names"
   ]
  },
  {
   "cell_type": "code",
   "execution_count": 33,
   "metadata": {},
   "outputs": [
    {
     "data": {
      "text/html": [
       "<div>\n",
       "<style scoped>\n",
       "    .dataframe tbody tr th:only-of-type {\n",
       "        vertical-align: middle;\n",
       "    }\n",
       "\n",
       "    .dataframe tbody tr th {\n",
       "        vertical-align: top;\n",
       "    }\n",
       "\n",
       "    .dataframe thead th {\n",
       "        text-align: right;\n",
       "    }\n",
       "</style>\n",
       "<table border=\"1\" class=\"dataframe\">\n",
       "  <thead>\n",
       "    <tr style=\"text-align: right;\">\n",
       "      <th></th>\n",
       "      <th>name_list</th>\n",
       "      <th>length_names</th>\n",
       "    </tr>\n",
       "  </thead>\n",
       "  <tbody>\n",
       "    <tr>\n",
       "      <th>0</th>\n",
       "      <td>Alina</td>\n",
       "      <td>5</td>\n",
       "    </tr>\n",
       "    <tr>\n",
       "      <th>1</th>\n",
       "      <td>Bernie</td>\n",
       "      <td>6</td>\n",
       "    </tr>\n",
       "    <tr>\n",
       "      <th>2</th>\n",
       "      <td>Jacob</td>\n",
       "      <td>5</td>\n",
       "    </tr>\n",
       "    <tr>\n",
       "      <th>3</th>\n",
       "      <td>Pablo</td>\n",
       "      <td>5</td>\n",
       "    </tr>\n",
       "    <tr>\n",
       "      <th>5</th>\n",
       "      <td>Isaac</td>\n",
       "      <td>5</td>\n",
       "    </tr>\n",
       "    <tr>\n",
       "      <th>7</th>\n",
       "      <td>Angela</td>\n",
       "      <td>6</td>\n",
       "    </tr>\n",
       "    <tr>\n",
       "      <th>8</th>\n",
       "      <td>Kevin</td>\n",
       "      <td>5</td>\n",
       "    </tr>\n",
       "  </tbody>\n",
       "</table>\n",
       "</div>"
      ],
      "text/plain": [
       "  name_list  length_names\n",
       "0     Alina             5\n",
       "1    Bernie             6\n",
       "2     Jacob             5\n",
       "3     Pablo             5\n",
       "5     Isaac             5\n",
       "7    Angela             6\n",
       "8     Kevin             5"
      ]
     },
     "execution_count": 33,
     "metadata": {},
     "output_type": "execute_result"
    }
   ],
   "source": [
    "new_df[new_df['length_names']>=5] #this is saying show new_df if column length_names is greater than or equal to five"
   ]
  },
  {
   "cell_type": "markdown",
   "metadata": {
    "collapsed": true,
    "slideshow": {
     "slide_type": "slide"
    }
   },
   "source": [
    "It's also super easy to convert a dictionary to a data frame"
   ]
  },
  {
   "cell_type": "code",
   "execution_count": 34,
   "metadata": {},
   "outputs": [
    {
     "data": {
      "text/html": [
       "<div>\n",
       "<style scoped>\n",
       "    .dataframe tbody tr th:only-of-type {\n",
       "        vertical-align: middle;\n",
       "    }\n",
       "\n",
       "    .dataframe tbody tr th {\n",
       "        vertical-align: top;\n",
       "    }\n",
       "\n",
       "    .dataframe thead th {\n",
       "        text-align: right;\n",
       "    }\n",
       "</style>\n",
       "<table border=\"1\" class=\"dataframe\">\n",
       "  <thead>\n",
       "    <tr style=\"text-align: right;\">\n",
       "      <th></th>\n",
       "      <th>MyDogs</th>\n",
       "      <th>MyCats</th>\n",
       "      <th>MyFrogs</th>\n",
       "      <th>my_new_type_of_pet</th>\n",
       "    </tr>\n",
       "  </thead>\n",
       "  <tbody>\n",
       "    <tr>\n",
       "      <th>0</th>\n",
       "      <td>Kai</td>\n",
       "      <td>Nanook</td>\n",
       "      <td>Kermit</td>\n",
       "      <td>Pickles</td>\n",
       "    </tr>\n",
       "    <tr>\n",
       "      <th>1</th>\n",
       "      <td>Kai</td>\n",
       "      <td>Milo</td>\n",
       "      <td>Kermit</td>\n",
       "      <td>Pickles</td>\n",
       "    </tr>\n",
       "  </tbody>\n",
       "</table>\n",
       "</div>"
      ],
      "text/plain": [
       "  MyDogs  MyCats MyFrogs my_new_type_of_pet\n",
       "0    Kai  Nanook  Kermit            Pickles\n",
       "1    Kai    Milo  Kermit            Pickles"
      ]
     },
     "execution_count": 34,
     "metadata": {},
     "output_type": "execute_result"
    }
   ],
   "source": [
    "pets_df=pd.DataFrame(AllMyPets)\n",
    "pets_df"
   ]
  },
  {
   "cell_type": "markdown",
   "metadata": {},
   "source": [
    "### Writing and Reading Files to the Working Directory"
   ]
  },
  {
   "cell_type": "markdown",
   "metadata": {},
   "source": [
    "Pandas provides this relatively easy built in method to write CSV files"
   ]
  },
  {
   "cell_type": "code",
   "execution_count": 35,
   "metadata": {},
   "outputs": [],
   "source": [
    "new_df.to_csv('new_df_21SEP2018.csv') "
   ]
  },
  {
   "cell_type": "markdown",
   "metadata": {},
   "source": [
    "It also provides an easy way to read in CSV files"
   ]
  },
  {
   "cell_type": "code",
   "execution_count": 36,
   "metadata": {},
   "outputs": [],
   "source": [
    "new_dfv2 = pd.read_csv('new_df_21SEP2018.csv')"
   ]
  },
  {
   "cell_type": "markdown",
   "metadata": {},
   "source": [
    "Then we can manipulate these data however we want and resave them"
   ]
  },
  {
   "cell_type": "code",
   "execution_count": 37,
   "metadata": {
    "slideshow": {
     "slide_type": "slide"
    }
   },
   "outputs": [
    {
     "data": {
      "text/html": [
       "<div>\n",
       "<style scoped>\n",
       "    .dataframe tbody tr th:only-of-type {\n",
       "        vertical-align: middle;\n",
       "    }\n",
       "\n",
       "    .dataframe tbody tr th {\n",
       "        vertical-align: top;\n",
       "    }\n",
       "\n",
       "    .dataframe thead th {\n",
       "        text-align: right;\n",
       "    }\n",
       "</style>\n",
       "<table border=\"1\" class=\"dataframe\">\n",
       "  <thead>\n",
       "    <tr style=\"text-align: right;\">\n",
       "      <th></th>\n",
       "      <th>old_index</th>\n",
       "      <th>name_list</th>\n",
       "      <th>length_names</th>\n",
       "      <th>index_plus_length</th>\n",
       "      <th>greater_than_7</th>\n",
       "    </tr>\n",
       "  </thead>\n",
       "  <tbody>\n",
       "    <tr>\n",
       "      <th>0</th>\n",
       "      <td>0</td>\n",
       "      <td>Alina</td>\n",
       "      <td>5</td>\n",
       "      <td>5</td>\n",
       "      <td>False</td>\n",
       "    </tr>\n",
       "    <tr>\n",
       "      <th>1</th>\n",
       "      <td>1</td>\n",
       "      <td>Bernie</td>\n",
       "      <td>6</td>\n",
       "      <td>7</td>\n",
       "      <td>False</td>\n",
       "    </tr>\n",
       "    <tr>\n",
       "      <th>2</th>\n",
       "      <td>2</td>\n",
       "      <td>Jacob</td>\n",
       "      <td>5</td>\n",
       "      <td>7</td>\n",
       "      <td>False</td>\n",
       "    </tr>\n",
       "    <tr>\n",
       "      <th>3</th>\n",
       "      <td>3</td>\n",
       "      <td>Pablo</td>\n",
       "      <td>5</td>\n",
       "      <td>8</td>\n",
       "      <td>True</td>\n",
       "    </tr>\n",
       "    <tr>\n",
       "      <th>4</th>\n",
       "      <td>4</td>\n",
       "      <td>Tala</td>\n",
       "      <td>4</td>\n",
       "      <td>8</td>\n",
       "      <td>True</td>\n",
       "    </tr>\n",
       "    <tr>\n",
       "      <th>5</th>\n",
       "      <td>5</td>\n",
       "      <td>Isaac</td>\n",
       "      <td>5</td>\n",
       "      <td>10</td>\n",
       "      <td>True</td>\n",
       "    </tr>\n",
       "    <tr>\n",
       "      <th>6</th>\n",
       "      <td>6</td>\n",
       "      <td>Ian</td>\n",
       "      <td>3</td>\n",
       "      <td>9</td>\n",
       "      <td>True</td>\n",
       "    </tr>\n",
       "    <tr>\n",
       "      <th>7</th>\n",
       "      <td>7</td>\n",
       "      <td>Angela</td>\n",
       "      <td>6</td>\n",
       "      <td>13</td>\n",
       "      <td>True</td>\n",
       "    </tr>\n",
       "    <tr>\n",
       "      <th>8</th>\n",
       "      <td>8</td>\n",
       "      <td>Kevin</td>\n",
       "      <td>5</td>\n",
       "      <td>13</td>\n",
       "      <td>True</td>\n",
       "    </tr>\n",
       "  </tbody>\n",
       "</table>\n",
       "</div>"
      ],
      "text/plain": [
       "   old_index name_list  length_names  index_plus_length  greater_than_7\n",
       "0          0     Alina             5                  5           False\n",
       "1          1    Bernie             6                  7           False\n",
       "2          2     Jacob             5                  7           False\n",
       "3          3     Pablo             5                  8            True\n",
       "4          4      Tala             4                  8            True\n",
       "5          5     Isaac             5                 10            True\n",
       "6          6       Ian             3                  9            True\n",
       "7          7    Angela             6                 13            True\n",
       "8          8     Kevin             5                 13            True"
      ]
     },
     "execution_count": 37,
     "metadata": {},
     "output_type": "execute_result"
    }
   ],
   "source": [
    "new_dfv2=new_dfv2.rename(columns = {'Unnamed: 0':'old_index'}) #renaming column\n",
    "new_dfv2 \n",
    "new_dfv2['index_plus_length'] = new_dfv2['old_index'] + new_dfv2['length_names'] #adding columns in a new column\n",
    "new_dfv2['greater_than_7'] = new_dfv2['index_plus_length']>7 #conditionally recoding and creating new column \n",
    "new_dfv2.to_csv('new_df_21SEP2018.csv', index=False) #writing w/o the index this time\n",
    "new_dfv2"
   ]
  },
  {
   "cell_type": "markdown",
   "metadata": {},
   "source": [
    "## Activity 8:\n",
    "1. Make a list of months in the year \n",
    "\n",
    "2. Make a list of one food for each month that reminds you of this month\n",
    "\n",
    "3. Make a list of the number of days in each month\n",
    "\n",
    "4. Zip the lists from steps 1, 2, and 3 together as a data frame using Pandas\n",
    "\n",
    "5. Create a new column that counts the length (in characters) of your favorite food from each month\n",
    "\n",
    "6. Compute the mean for the column from step 5\n",
    "\n",
    "7. Print all rows where the length from step 5 is greater than the mean\n",
    "\n",
    "8. Create a row that indicates whether the condition from step 7 is true\n",
    "\n",
    "9. Find your working directory and save this new data frame in it\n",
    "\n",
    "10. Read back in the csv file from step 9 and then create a column that repeats your name\n",
    "\n",
    "11. Create a new column that adds the number of days in a month to the column with the number of characters from the food\n",
    "\n",
    "12. Resave the data frame\n"
   ]
  }
 ],
 "metadata": {
  "kernelspec": {
   "display_name": "Python 3",
   "language": "python",
   "name": "python3"
  },
  "language_info": {
   "codemirror_mode": {
    "name": "ipython",
    "version": 3
   },
   "file_extension": ".py",
   "mimetype": "text/x-python",
   "name": "python",
   "nbconvert_exporter": "python",
   "pygments_lexer": "ipython3",
   "version": "3.6.5"
  }
 },
 "nbformat": 4,
 "nbformat_minor": 2
}
